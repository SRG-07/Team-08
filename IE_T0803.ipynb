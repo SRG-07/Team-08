{
  "cells": [
    {
      "cell_type": "code",
      "execution_count": null,
      "metadata": {
        "colab": {
          "base_uri": "https://localhost:8080/"
        },
        "collapsed": true,
        "id": "JBfU_WI2__nb",
        "outputId": "54e6772b-d333-4875-9d05-08629ecddfb3"
      },
      "outputs": [
        {
          "name": "stdout",
          "output_type": "stream",
          "text": [
            "Requirement already satisfied: torch in /usr/local/lib/python3.12/dist-packages (2.8.0+cu126)\n",
            "Requirement already satisfied: transformers in /usr/local/lib/python3.12/dist-packages (4.57.1)\n",
            "Requirement already satisfied: sentence-transformers in /usr/local/lib/python3.12/dist-packages (5.1.1)\n",
            "Requirement already satisfied: numpy in /usr/local/lib/python3.12/dist-packages (2.0.2)\n",
            "Requirement already satisfied: scikit-learn in /usr/local/lib/python3.12/dist-packages (1.6.1)\n",
            "Requirement already satisfied: filelock in /usr/local/lib/python3.12/dist-packages (from torch) (3.20.0)\n",
            "Requirement already satisfied: typing-extensions>=4.10.0 in /usr/local/lib/python3.12/dist-packages (from torch) (4.15.0)\n",
            "Requirement already satisfied: setuptools in /usr/local/lib/python3.12/dist-packages (from torch) (75.2.0)\n",
            "Requirement already satisfied: sympy>=1.13.3 in /usr/local/lib/python3.12/dist-packages (from torch) (1.13.3)\n",
            "Requirement already satisfied: networkx in /usr/local/lib/python3.12/dist-packages (from torch) (3.5)\n",
            "Requirement already satisfied: jinja2 in /usr/local/lib/python3.12/dist-packages (from torch) (3.1.6)\n",
            "Requirement already satisfied: fsspec in /usr/local/lib/python3.12/dist-packages (from torch) (2025.3.0)\n",
            "Requirement already satisfied: nvidia-cuda-nvrtc-cu12==12.6.77 in /usr/local/lib/python3.12/dist-packages (from torch) (12.6.77)\n",
            "Requirement already satisfied: nvidia-cuda-runtime-cu12==12.6.77 in /usr/local/lib/python3.12/dist-packages (from torch) (12.6.77)\n",
            "Requirement already satisfied: nvidia-cuda-cupti-cu12==12.6.80 in /usr/local/lib/python3.12/dist-packages (from torch) (12.6.80)\n",
            "Requirement already satisfied: nvidia-cudnn-cu12==9.10.2.21 in /usr/local/lib/python3.12/dist-packages (from torch) (9.10.2.21)\n",
            "Requirement already satisfied: nvidia-cublas-cu12==12.6.4.1 in /usr/local/lib/python3.12/dist-packages (from torch) (12.6.4.1)\n",
            "Requirement already satisfied: nvidia-cufft-cu12==11.3.0.4 in /usr/local/lib/python3.12/dist-packages (from torch) (11.3.0.4)\n",
            "Requirement already satisfied: nvidia-curand-cu12==10.3.7.77 in /usr/local/lib/python3.12/dist-packages (from torch) (10.3.7.77)\n",
            "Requirement already satisfied: nvidia-cusolver-cu12==11.7.1.2 in /usr/local/lib/python3.12/dist-packages (from torch) (11.7.1.2)\n",
            "Requirement already satisfied: nvidia-cusparse-cu12==12.5.4.2 in /usr/local/lib/python3.12/dist-packages (from torch) (12.5.4.2)\n",
            "Requirement already satisfied: nvidia-cusparselt-cu12==0.7.1 in /usr/local/lib/python3.12/dist-packages (from torch) (0.7.1)\n",
            "Requirement already satisfied: nvidia-nccl-cu12==2.27.3 in /usr/local/lib/python3.12/dist-packages (from torch) (2.27.3)\n",
            "Requirement already satisfied: nvidia-nvtx-cu12==12.6.77 in /usr/local/lib/python3.12/dist-packages (from torch) (12.6.77)\n",
            "Requirement already satisfied: nvidia-nvjitlink-cu12==12.6.85 in /usr/local/lib/python3.12/dist-packages (from torch) (12.6.85)\n",
            "Requirement already satisfied: nvidia-cufile-cu12==1.11.1.6 in /usr/local/lib/python3.12/dist-packages (from torch) (1.11.1.6)\n",
            "Requirement already satisfied: triton==3.4.0 in /usr/local/lib/python3.12/dist-packages (from torch) (3.4.0)\n",
            "Requirement already satisfied: huggingface-hub<1.0,>=0.34.0 in /usr/local/lib/python3.12/dist-packages (from transformers) (0.35.3)\n",
            "Requirement already satisfied: packaging>=20.0 in /usr/local/lib/python3.12/dist-packages (from transformers) (25.0)\n",
            "Requirement already satisfied: pyyaml>=5.1 in /usr/local/lib/python3.12/dist-packages (from transformers) (6.0.3)\n",
            "Requirement already satisfied: regex!=2019.12.17 in /usr/local/lib/python3.12/dist-packages (from transformers) (2024.11.6)\n",
            "Requirement already satisfied: requests in /usr/local/lib/python3.12/dist-packages (from transformers) (2.32.4)\n",
            "Requirement already satisfied: tokenizers<=0.23.0,>=0.22.0 in /usr/local/lib/python3.12/dist-packages (from transformers) (0.22.1)\n",
            "Requirement already satisfied: safetensors>=0.4.3 in /usr/local/lib/python3.12/dist-packages (from transformers) (0.6.2)\n",
            "Requirement already satisfied: tqdm>=4.27 in /usr/local/lib/python3.12/dist-packages (from transformers) (4.67.1)\n",
            "Requirement already satisfied: scipy in /usr/local/lib/python3.12/dist-packages (from sentence-transformers) (1.16.2)\n",
            "Requirement already satisfied: Pillow in /usr/local/lib/python3.12/dist-packages (from sentence-transformers) (11.3.0)\n",
            "Requirement already satisfied: joblib>=1.2.0 in /usr/local/lib/python3.12/dist-packages (from scikit-learn) (1.5.2)\n",
            "Requirement already satisfied: threadpoolctl>=3.1.0 in /usr/local/lib/python3.12/dist-packages (from scikit-learn) (3.6.0)\n",
            "Requirement already satisfied: hf-xet<2.0.0,>=1.1.3 in /usr/local/lib/python3.12/dist-packages (from huggingface-hub<1.0,>=0.34.0->transformers) (1.1.10)\n",
            "Requirement already satisfied: mpmath<1.4,>=1.1.0 in /usr/local/lib/python3.12/dist-packages (from sympy>=1.13.3->torch) (1.3.0)\n",
            "Requirement already satisfied: MarkupSafe>=2.0 in /usr/local/lib/python3.12/dist-packages (from jinja2->torch) (3.0.3)\n",
            "Requirement already satisfied: charset_normalizer<4,>=2 in /usr/local/lib/python3.12/dist-packages (from requests->transformers) (3.4.4)\n",
            "Requirement already satisfied: idna<4,>=2.5 in /usr/local/lib/python3.12/dist-packages (from requests->transformers) (3.11)\n",
            "Requirement already satisfied: urllib3<3,>=1.21.1 in /usr/local/lib/python3.12/dist-packages (from requests->transformers) (2.5.0)\n",
            "Requirement already satisfied: certifi>=2017.4.17 in /usr/local/lib/python3.12/dist-packages (from requests->transformers) (2025.10.5)\n"
          ]
        }
      ],
      "source": [
        "!pip install torch transformers sentence-transformers numpy scikit-learn\n"
      ]
    },
    {
      "cell_type": "code",
      "execution_count": null,
      "metadata": {
        "colab": {
          "base_uri": "https://localhost:8080/"
        },
        "id": "urlxNVT-JRtZ",
        "outputId": "48bb2a86-6bdc-4084-bc14-cb9cbd1d9b53"
      },
      "outputs": [
        {
          "name": "stdout",
          "output_type": "stream",
          "text": [
            "2.8.0+cu126\n",
            "5.1.1\n",
            "CUDA available: False\n"
          ]
        }
      ],
      "source": [
        "import torch\n",
        "print(torch.__version__)\n",
        "import sentence_transformers\n",
        "print(sentence_transformers.__version__)\n",
        "print(\"CUDA available:\", torch.cuda.is_available())"
      ]
    },
    {
      "cell_type": "code",
      "execution_count": 13,
      "metadata": {
        "id": "GRo6sIABJxb_"
      },
      "outputs": [],
      "source": [
        "import numpy as np\n",
        "from sentence_transformers import SentenceTransformer\n",
        "from sklearn.metrics.pairwise import cosine_similarity"
      ]
    },
    {
      "cell_type": "code",
      "execution_count": 14,
      "metadata": {
        "colab": {
          "base_uri": "https://localhost:8080/"
        },
        "id": "JfDACTSpJ0Za",
        "outputId": "31858b97-5e62-4df9-c9cc-0fa88293e2ab"
      },
      "outputs": [
        {
          "name": "stdout",
          "output_type": "stream",
          "text": [
            "Embeding shape (384,)\n",
            "[-0.01691845  0.03734     0.00344535  0.00154511 -0.01726834 -0.05722486\n",
            "  0.17289782  0.0437989  -0.01469005 -0.02645777]\n"
          ]
        }
      ],
      "source": [
        "model=SentenceTransformer('all-MiniLM-L6-v2') #testing this SentenceTransformer\n",
        "\n",
        "test_sentence=\"I am Sumit\"\n",
        "embeding=model.encode(test_sentence)\n",
        "\n",
        "print(\"Embeding shape\",embeding.shape)\n",
        "print(embeding[:10])"
      ]
    },
    {
      "cell_type": "code",
      "execution_count": 15,
      "metadata": {
        "id": "vUJ09TetNLZv"
      },
      "outputs": [],
      "source": [
        "captions=[\n",
        "    \"Funny cat fails compilation\",\n",
        "    \"Cooking tutorial: pasta carbonara\",\n",
        "    \"Football skills and goals\",\n",
        "    \"Python programming tips for beginners\",\n",
        "    \"Travel volgs in India\",\n",
        "    \"Car vs bike race\",\n",
        "    \"Basketball highlights and dunks\",\n",
        "    \"Dog funny videos\",\n",
        "    \"Makeup tutorial for beginners\",\n",
        "    \"Trying the latest viral meme\"\n",
        "]#examples of the captions"
      ]
    },
    {
      "cell_type": "code",
      "execution_count": 16,
      "metadata": {
        "colab": {
          "base_uri": "https://localhost:8080/"
        },
        "id": "dG9UiY5qPPU7",
        "outputId": "289cabeb-a2ee-4427-eac3-0e735d0fba94"
      },
      "outputs": [
        {
          "name": "stdout",
          "output_type": "stream",
          "text": [
            "[ 0.01624674  0.00975383  0.01684733 -0.00547727 -0.06396499 -0.06015237\n",
            " -0.00993678 -0.03066153 -0.08098225 -0.0148155 ]\n"
          ]
        }
      ],
      "source": [
        "embeddings=model.encode(captions)\n",
        "print(embeddings[0][:10])"
      ]
    },
    {
      "cell_type": "code",
      "execution_count": 17,
      "metadata": {
        "id": "KMoaHxl7Pn_n"
      },
      "outputs": [],
      "source": [
        "similarity_matrix_sklearn = cosine_similarity(embeddings) #main formulla for showing similarity"
      ]
    },
    {
      "cell_type": "code",
      "execution_count": 18,
      "metadata": {
        "id": "1oLajjXxP8Pd"
      },
      "outputs": [],
      "source": [
        "embeddings_tensor=torch.tensor(embeddings)\n",
        "embeddings_norm = torch.nn.functional.normalize(embeddings_tensor, p=2, dim=1)\n",
        "similarity_matrix_torch = torch.mm(embeddings_norm, embeddings_norm.T)\n"
      ]
    },
    {
      "cell_type": "code",
      "execution_count": 19,
      "metadata": {
        "colab": {
          "base_uri": "https://localhost:8080/"
        },
        "collapsed": true,
        "id": "F-bHXGEQQlNz",
        "outputId": "6efbaeb9-bd67-49de-a5d0-f3c203eb2d70"
      },
      "outputs": [
        {
          "name": "stdout",
          "output_type": "stream",
          "text": [
            "[[ 1.0000001   0.13378078 -0.04731484  0.08835788 -0.08297739  0.01241986\n",
            "   0.01405041  0.39314908  0.10484333  0.2371667 ]\n",
            " [ 0.13378078  0.99999994  0.06739361  0.24116406 -0.01076535 -0.01859758\n",
            "   0.00908421  0.10976613  0.41546685  0.07791536]\n",
            " [-0.04731484  0.06739361  1.          0.11417152 -0.02545187  0.0467873\n",
            "   0.18787917  0.09982367  0.05287192  0.02703895]\n",
            " [ 0.08835788  0.24116406  0.11417152  1.0000002   0.01396546  0.04353315\n",
            "   0.0964116   0.12962985  0.3943448   0.14009453]\n",
            " [-0.08297739 -0.01076535 -0.02545187  0.01396546  1.0000001   0.03323345\n",
            "   0.03043574  0.0366881  -0.08249784  0.05172103]\n",
            " [ 0.01241986 -0.01859758  0.0467873   0.04353315  0.03323345  1.0000002\n",
            "   0.03317994  0.0323124  -0.06298241  0.05245996]\n",
            " [ 0.01405041  0.00908421  0.18787917  0.0964116   0.03043574  0.03317994\n",
            "   0.99999976  0.296832    0.06186728  0.15726037]\n",
            " [ 0.39314908  0.10976613  0.09982367  0.12962985  0.0366881   0.0323124\n",
            "   0.296832    1.          0.15812005  0.25621742]\n",
            " [ 0.10484333  0.41546685  0.05287192  0.3943448  -0.08249784 -0.06298241\n",
            "   0.06186728  0.15812005  1.0000002   0.06275825]\n",
            " [ 0.2371667   0.07791536  0.02703895  0.14009453  0.05172103  0.05245996\n",
            "   0.15726037  0.25621742  0.06275825  0.9999999 ]]\n",
            " \n",
            "tensor([[ 1.0000,  0.1338, -0.0473,  0.0884, -0.0830,  0.0124,  0.0141,  0.3931,\n",
            "          0.1048,  0.2372],\n",
            "        [ 0.1338,  1.0000,  0.0674,  0.2412, -0.0108, -0.0186,  0.0091,  0.1098,\n",
            "          0.4155,  0.0779],\n",
            "        [-0.0473,  0.0674,  1.0000,  0.1142, -0.0255,  0.0468,  0.1879,  0.0998,\n",
            "          0.0529,  0.0270],\n",
            "        [ 0.0884,  0.2412,  0.1142,  1.0000,  0.0140,  0.0435,  0.0964,  0.1296,\n",
            "          0.3943,  0.1401],\n",
            "        [-0.0830, -0.0108, -0.0255,  0.0140,  1.0000,  0.0332,  0.0304,  0.0367,\n",
            "         -0.0825,  0.0517],\n",
            "        [ 0.0124, -0.0186,  0.0468,  0.0435,  0.0332,  1.0000,  0.0332,  0.0323,\n",
            "         -0.0630,  0.0525],\n",
            "        [ 0.0141,  0.0091,  0.1879,  0.0964,  0.0304,  0.0332,  1.0000,  0.2968,\n",
            "          0.0619,  0.1573],\n",
            "        [ 0.3931,  0.1098,  0.0998,  0.1296,  0.0367,  0.0323,  0.2968,  1.0000,\n",
            "          0.1581,  0.2562],\n",
            "        [ 0.1048,  0.4155,  0.0529,  0.3943, -0.0825, -0.0630,  0.0619,  0.1581,\n",
            "          1.0000,  0.0628],\n",
            "        [ 0.2372,  0.0779,  0.0270,  0.1401,  0.0517,  0.0525,  0.1573,  0.2562,\n",
            "          0.0628,  1.0000]])\n"
          ]
        }
      ],
      "source": [
        "print(similarity_matrix_sklearn)\n",
        "print(\" \")\n",
        "print(similarity_matrix_torch)"
      ]
    },
    {
      "cell_type": "code",
      "execution_count": 20,
      "metadata": {
        "colab": {
          "base_uri": "https://localhost:8080/"
        },
        "id": "U9P8h0xBNedu",
        "outputId": "1f08d5dc-aca3-41ab-ca50-ace8d2d85f5e"
      },
      "outputs": [
        {
          "name": "stdout",
          "output_type": "stream",
          "text": [
            "Caption Matrix\n",
            "\n",
            "                                       Funny cat fails compilation  Cooking tutorial: pasta carbonara  Football skills and goals  Python programming tips for beginners  Travel volgs in India  Car vs bike race  Basketball highlights and dunks  Dog funny videos  Makeup tutorial for beginners  Trying the latest viral meme\n",
            "Funny cat fails compilation                                  -1.00                               0.13                      -0.05                                   0.09                  -0.08              0.01                             0.01              0.39                           0.10                          0.24\n",
            "Cooking tutorial: pasta carbonara                             0.13                              -1.00                       0.07                                   0.24                  -0.01             -0.02                             0.01              0.11                           0.42                          0.08\n",
            "Football skills and goals                                    -0.05                               0.07                      -1.00                                   0.11                  -0.03              0.05                             0.19              0.10                           0.05                          0.03\n",
            "Python programming tips for beginners                         0.09                               0.24                       0.11                                  -1.00                   0.01              0.04                             0.10              0.13                           0.39                          0.14\n",
            "Travel volgs in India                                        -0.08                              -0.01                      -0.03                                   0.01                  -1.00              0.03                             0.03              0.04                          -0.08                          0.05\n",
            "Car vs bike race                                              0.01                              -0.02                       0.05                                   0.04                   0.03             -1.00                             0.03              0.03                          -0.06                          0.05\n",
            "Basketball highlights and dunks                               0.01                               0.01                       0.19                                   0.10                   0.03              0.03                            -1.00              0.30                           0.06                          0.16\n",
            "Dog funny videos                                              0.39                               0.11                       0.10                                   0.13                   0.04              0.03                             0.30             -1.00                           0.16                          0.26\n",
            "Makeup tutorial for beginners                                 0.10                               0.42                       0.05                                   0.39                  -0.08             -0.06                             0.06              0.16                          -1.00                          0.06\n",
            "Trying the latest viral meme                                  0.24                               0.08                       0.03                                   0.14                   0.05              0.05                             0.16              0.26                           0.06                         -1.00\n"
          ]
        }
      ],
      "source": [
        "import pandas as pd\n",
        "df = pd.DataFrame(similarity_matrix, index=captions, columns=captions)\n",
        "print(\"Caption Matrix\\n\")\n",
        "print(df.round(2).to_string())"
      ]
    },
    {
      "cell_type": "code",
      "execution_count": 21,
      "metadata": {
        "colab": {
          "base_uri": "https://localhost:8080/"
        },
        "id": "82q2HdkSRafo",
        "outputId": "b73ce5d2-7649-49ce-a0a2-ffa7a99e3fb3"
      },
      "outputs": [
        {
          "name": "stdout",
          "output_type": "stream",
          "text": [
            "Caption: 'Funny cat fails compilation'\n",
            "Most similar caption: 'Dog funny videos'\n",
            "Similarity score: 0.393\n",
            "\n",
            "Caption: 'Cooking tutorial: pasta carbonara'\n",
            "Most similar caption: 'Makeup tutorial for beginners'\n",
            "Similarity score: 0.415\n",
            "\n",
            "Caption: 'Football skills and goals'\n",
            "Most similar caption: 'Basketball highlights and dunks'\n",
            "Similarity score: 0.188\n",
            "\n",
            "Caption: 'Python programming tips for beginners'\n",
            "Most similar caption: 'Makeup tutorial for beginners'\n",
            "Similarity score: 0.394\n",
            "\n",
            "Caption: 'Travel volgs in India'\n",
            "Most similar caption: 'Trying the latest viral meme'\n",
            "Similarity score: 0.052\n",
            "\n",
            "Caption: 'Car vs bike race'\n",
            "Most similar caption: 'Trying the latest viral meme'\n",
            "Similarity score: 0.052\n",
            "\n",
            "Caption: 'Basketball highlights and dunks'\n",
            "Most similar caption: 'Dog funny videos'\n",
            "Similarity score: 0.297\n",
            "\n",
            "Caption: 'Dog funny videos'\n",
            "Most similar caption: 'Funny cat fails compilation'\n",
            "Similarity score: 0.393\n",
            "\n",
            "Caption: 'Makeup tutorial for beginners'\n",
            "Most similar caption: 'Cooking tutorial: pasta carbonara'\n",
            "Similarity score: 0.415\n",
            "\n",
            "Caption: 'Trying the latest viral meme'\n",
            "Most similar caption: 'Dog funny videos'\n",
            "Similarity score: 0.256\n",
            "\n"
          ]
        }
      ],
      "source": [
        "similarity_matrix=similarity_matrix_sklearn\n",
        "num_captions=len(captions)\n",
        "\n",
        "for i in range(num_captions):\n",
        "  similarity_matrix[i,i]=-1\n",
        "  most_similar_idx=np.argmax(similarity_matrix[i])\n",
        "  print(f\"Caption: '{captions[i]}'\")\n",
        "  print(f\"Most similar caption: '{captions[most_similar_idx]}'\")\n",
        "  print(f\"Similarity score: {similarity_matrix[i, most_similar_idx]:.3f}\\n\")"
      ]
    }
  ],
  "metadata": {
    "colab": {
      "provenance": []
    },
    "kernelspec": {
      "display_name": "Python 3",
      "name": "python3"
    },
    "language_info": {
      "name": "python"
    }
  },
  "nbformat": 4,
  "nbformat_minor": 0
}
